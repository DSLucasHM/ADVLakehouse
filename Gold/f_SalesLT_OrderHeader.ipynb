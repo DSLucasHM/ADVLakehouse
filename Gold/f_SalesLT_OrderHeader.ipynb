{
 "cells": [
  {
   "cell_type": "markdown",
   "metadata": {
    "application/vnd.databricks.v1+cell": {
     "cellMetadata": {},
     "inputWidgets": {},
     "nuid": "f29b4921-9cdf-42ec-9796-b1294f9ad83e",
     "showTitle": false,
     "tableResultSettingsMap": {},
     "title": ""
    }
   },
   "source": [
    "f_OrderHeader"
   ]
  },
  {
   "cell_type": "markdown",
   "metadata": {
    "application/vnd.databricks.v1+cell": {
     "cellMetadata": {
      "byteLimit": 2048000,
      "rowLimit": 10000
     },
     "inputWidgets": {},
     "nuid": "894bd6c1-d5e2-40d6-ab47-d373f56c6dc3",
     "showTitle": false,
     "tableResultSettingsMap": {},
     "title": ""
    }
   },
   "source": [
    "**In certain scenarios, it may be possible to create a single Sales table that encompasses all necessary information, rather than maintaining separate Order Header and Order Detail fact tables. However, adopting this approach in the current context would result in the loss of critical data elements such as status and tax. Therefore, this model will consist of two fact tables: Order Header and Order Details.**"
   ]
  },
  {
   "cell_type": "code",
   "execution_count": 0,
   "metadata": {
    "application/vnd.databricks.v1+cell": {
     "cellMetadata": {
      "byteLimit": 2048000,
      "rowLimit": 10000
     },
     "inputWidgets": {},
     "nuid": "8125f0fa-8941-4648-b7bb-c6d68331e722",
     "showTitle": false,
     "tableResultSettingsMap": {},
     "title": ""
    }
   },
   "outputs": [],
   "source": [
    "\n",
    "from pyspark.sql import DataFrame, Window\n",
    "from pyspark.sql import functions as F\n",
    "from pyspark.sql.types import (\n",
    "    DecimalType, IntegerType, StringType, TimestampType, StructType, StructField, BooleanType\n",
    ")\n",
    "from pyspark.sql.functions import col, desc, when, datediff, current_date"
   ]
  },
  {
   "cell_type": "code",
   "execution_count": 0,
   "metadata": {
    "application/vnd.databricks.v1+cell": {
     "cellMetadata": {
      "byteLimit": 2048000,
      "rowLimit": 10000
     },
     "inputWidgets": {},
     "nuid": "06b6cd3f-460e-45a4-b066-b1590796728a",
     "showTitle": false,
     "tableResultSettingsMap": {},
     "title": ""
    }
   },
   "outputs": [],
   "source": [
    "%run \"/Workspace/Utils/Utils\"  "
   ]
  },
  {
   "cell_type": "code",
   "execution_count": 0,
   "metadata": {
    "application/vnd.databricks.v1+cell": {
     "cellMetadata": {
      "byteLimit": 2048000,
      "rowLimit": 10000
     },
     "inputWidgets": {},
     "nuid": "5852ffe5-8a8f-4a4f-8db8-47a8d75dc3f4",
     "showTitle": false,
     "tableResultSettingsMap": {},
     "title": ""
    }
   },
   "outputs": [],
   "source": [
    "#Loading Table\n",
    "\n",
    "df = spark.table(\"adlslmcompany_silver.managed_silver.saleslt_orderheader\")"
   ]
  },
  {
   "cell_type": "code",
   "execution_count": 0,
   "metadata": {
    "application/vnd.databricks.v1+cell": {
     "cellMetadata": {
      "byteLimit": 2048000,
      "rowLimit": 10000
     },
     "inputWidgets": {},
     "nuid": "2e10e1c9-c8a8-49b7-80ca-e1813dc16fd6",
     "showTitle": false,
     "tableResultSettingsMap": {},
     "title": ""
    }
   },
   "outputs": [],
   "source": [
    "#Displaying table\n",
    "\n",
    "df.display()"
   ]
  },
  {
   "cell_type": "code",
   "execution_count": 0,
   "metadata": {
    "application/vnd.databricks.v1+cell": {
     "cellMetadata": {
      "byteLimit": 2048000,
      "rowLimit": 10000
     },
     "inputWidgets": {},
     "nuid": "52291abe-2c7a-480b-81eb-76162c2d12aa",
     "showTitle": false,
     "tableResultSettingsMap": {},
     "title": ""
    }
   },
   "outputs": [],
   "source": [
    "def gold_clean_f_orderheader(df): \n",
    "\n",
    "    #Drop columns that will not be necessary for this dimension table, including BillToAddres ID that was defined by the stakeholders as a columnm that should not be considered for this analysios purpose\n",
    "    df = df.drop(\"BillToAddressID\", \"rowguid\", \"ModifiedDate\", \"bronze_ingestion_timestamp\", \"silves_transformed_timestamp\" )\n",
    "\n",
    "    # Adds processed timestamp\n",
    "    df = df.withColumn(\"processed_timestamp\", F.current_timestamp())\n",
    "\n",
    "    #Cast to ensure datatype\n",
    "    df = df.select(\n",
    "         F.col('SalesOrderID').cast(IntegerType()).alias('SalesOrderID'),\n",
    "         F.col('OrderDate').cast(TimestampType()).alias('OrderDate'),\n",
    "         F.col('DueDate').cast(TimestampType()).alias('DueDate'),\n",
    "         F.col('ShipDate').cast(TimestampType()).alias('ShipDate'),\n",
    "         F.col('Status').cast(IntegerType()).alias('Status'),\n",
    "         F.col('OnlineOrderFlag').cast(BooleanType()).alias('OnlineOrderFlag'),\n",
    "         F.col('ShipToAddressID').cast(IntegerType()).alias('ShipToAddressID'),\n",
    "         F.col('ShipMethod').alias('ShipMethod'),\n",
    "         F.col('CreditCardApprovalCode').alias('CreditCardApprovalCode'),\n",
    "         F.col('SubTotal').cast(DecimalType(19,4)).alias('SubTotal'),\n",
    "         F.col('TaxAmt').cast(DecimalType(19,4)).alias('TaxAmt'),\n",
    "         F.col('Freight').cast(DecimalType(19,4)).alias('Freight'),\n",
    "         F.col('TotalDue').cast(DecimalType(19,4)).alias('TotalDue'),\n",
    "         F.col('Shiptime').cast(IntegerType()).alias('Shiptime'),\n",
    "         F.col('CustomerID').cast(IntegerType()).alias('CustomerID'),\n",
    "         F.col('processed_timestamp').cast(TimestampType()).alias('processed_timestamp')\n",
    "                 )\n",
    "    \n",
    "    return df"
   ]
  },
  {
   "cell_type": "code",
   "execution_count": 0,
   "metadata": {
    "application/vnd.databricks.v1+cell": {
     "cellMetadata": {
      "byteLimit": 2048000,
      "rowLimit": 10000
     },
     "inputWidgets": {},
     "nuid": "dd8e7896-49e4-4ae5-8ff3-6ab06d097996",
     "showTitle": false,
     "tableResultSettingsMap": {},
     "title": ""
    }
   },
   "outputs": [],
   "source": [
    "#Defining expected schema\n",
    "expected_schema = StructType([\n",
    "    StructField(\"SalesOrderID\", IntegerType(), False),             \n",
    "    StructField(\"OrderDate\", TimestampType(), False),\n",
    "    StructField(\"DueDate\", TimestampType(), False),\n",
    "    StructField(\"ShipDate\", TimestampType(), False),\n",
    "    StructField(\"Status\", IntegerType(), False),\n",
    "    StructField(\"OnlineOrderFlag\", BooleanType(), False),\n",
    "    StructField(\"ShipToAddressID\", IntegerType(), False),\n",
    "    StructField(\"ShipMethod\", StringType(), False),\n",
    "    StructField(\"CreditCardApprovalCode\", StringType(), False),\n",
    "    StructField(\"SubTotal\", DecimalType(19,4), False),\n",
    "    StructField(\"TaxAmt\", DecimalType(19,4), False),\n",
    "    StructField(\"Freight\", DecimalType(19,4), False),\n",
    "    StructField(\"TotalDue\", DecimalType(19,4), False),\n",
    "    StructField(\"Shiptime\", IntegerType(), False),\n",
    "    StructField(\"processed_timestamp\", TimestampType(), False)\n",
    "                            ])"
   ]
  },
  {
   "cell_type": "code",
   "execution_count": 0,
   "metadata": {
    "application/vnd.databricks.v1+cell": {
     "cellMetadata": {
      "byteLimit": 2048000,
      "rowLimit": 10000
     },
     "inputWidgets": {},
     "nuid": "6b2f2e98-f45e-4677-b91c-8cf5ead6fe26",
     "showTitle": false,
     "tableResultSettingsMap": {},
     "title": ""
    }
   },
   "outputs": [],
   "source": [
    "#Transforming DF\n",
    "\n",
    "gold_df = gold_clean_f_orderheader(df)"
   ]
  },
  {
   "cell_type": "code",
   "execution_count": 0,
   "metadata": {
    "application/vnd.databricks.v1+cell": {
     "cellMetadata": {
      "byteLimit": 2048000,
      "rowLimit": 10000
     },
     "inputWidgets": {},
     "nuid": "555e0361-c20e-4916-85f2-85a4cdb388a5",
     "showTitle": false,
     "tableResultSettingsMap": {},
     "title": ""
    }
   },
   "outputs": [],
   "source": [
    "#Comparing lenghts\n",
    "\n",
    "compare_lengths(df, gold_df)"
   ]
  },
  {
   "cell_type": "code",
   "execution_count": 0,
   "metadata": {
    "application/vnd.databricks.v1+cell": {
     "cellMetadata": {
      "byteLimit": 2048000,
      "rowLimit": 10000
     },
     "inputWidgets": {},
     "nuid": "6098ec3a-5153-4354-90a8-3b4ef4d3ce41",
     "showTitle": false,
     "tableResultSettingsMap": {},
     "title": ""
    }
   },
   "outputs": [],
   "source": [
    "#Checking the schema \n",
    "\n",
    "_validate_schema(gold_df, expected_schema)"
   ]
  },
  {
   "cell_type": "markdown",
   "metadata": {
    "application/vnd.databricks.v1+cell": {
     "cellMetadata": {
      "byteLimit": 2048000,
      "rowLimit": 10000
     },
     "inputWidgets": {},
     "nuid": "5454755d-1c85-45e1-930d-e19e94a57731",
     "showTitle": false,
     "tableResultSettingsMap": {},
     "title": ""
    }
   },
   "source": [
    "**IMPORTANT: Please note that this is a simulated project; the upsert operation will be executed within this notebook. In a production environment, a dedicated notebook containing only the function and validations would be developed. All function notebooks would be orchestrated by Azure Data Factory (ADF) pipelines or Azure Databricks (ADB) workflows. The method of upsert may vary based on the utilization of auto loader, streaming, or Change Data Feed (CDF).**"
   ]
  },
  {
   "cell_type": "code",
   "execution_count": 0,
   "metadata": {
    "application/vnd.databricks.v1+cell": {
     "cellMetadata": {
      "byteLimit": 2048000,
      "rowLimit": 10000
     },
     "inputWidgets": {},
     "nuid": "d11a94e7-4e24-4a77-90d2-8742e676b6e2",
     "showTitle": false,
     "tableResultSettingsMap": {},
     "title": ""
    }
   },
   "outputs": [],
   "source": [
    "#Loading into the Gold Layer\n",
    "\n",
    "target_table= \"f_orderheader\"   \n",
    "\n",
    "schema = \"star_schema\"\n",
    "\n",
    "catalog = \"adlscompany_gold\"\n",
    "\n",
    "primary_keys = [\"SalesOrderID\"]\n",
    "\n",
    "\n",
    "upsert_table(gold_df, target_table, primary_keys, schema, catalog )"
   ]
  }
 ],
 "metadata": {
  "application/vnd.databricks.v1+notebook": {
   "computePreferences": null,
   "dashboards": [],
   "environmentMetadata": {
    "base_environment": "",
    "environment_version": "2"
   },
   "language": "python",
   "notebookMetadata": {
    "pythonIndentUnit": 4
   },
   "notebookName": "f_SalesLT_OrderHeader",
   "widgets": {}
  },
  "language_info": {
   "name": "python"
  }
 },
 "nbformat": 4,
 "nbformat_minor": 0
}
