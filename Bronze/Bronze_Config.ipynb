{
 "cells": [
  {
   "cell_type": "markdown",
   "metadata": {
    "application/vnd.databricks.v1+cell": {
     "cellMetadata": {},
     "inputWidgets": {},
     "nuid": "1ade1783-e05b-4340-8f59-e292b9b23828",
     "showTitle": false,
     "tableResultSettingsMap": {},
     "title": ""
    }
   },
   "source": [
    "**Array with files to be loaded information**"
   ]
  },
  {
   "cell_type": "code",
   "execution_count": 0,
   "metadata": {
    "application/vnd.databricks.v1+cell": {
     "cellMetadata": {
      "byteLimit": 2048000,
      "rowLimit": 10000
     },
     "inputWidgets": {},
     "nuid": "bcf5fc4a-32e8-41c5-894f-86542593cbeb",
     "showTitle": false,
     "tableResultSettingsMap": {},
     "title": ""
    }
   },
   "outputs": [],
   "source": [
    "#Databricks noteebok with all the files paths from landing zone\n",
    "\n",
    "configs = {\n",
    "    'SalesLT_Address': {\n",
    "        'file_path': 'abfss://landingzone@adlslmcompany.dfs.core.windows.net/SalesLT/SalesLT_Address.parquet',\n",
    "        'table_name': 'SalesLT_Address',\n",
    "        'schema_name': 'managed_bronze',\n",
    "        'input_format': 'parquet'\n",
    "    },\n",
    "    'SalesLT_Customer': {\n",
    "        'file_path': 'abfss://landingzone@adlslmcompany.dfs.core.windows.net/SalesLT/SalesLT_Customer.parquet',\n",
    "        'table_name': 'SalesLT_Customer',\n",
    "        'schema_name': 'managed_bronze',\n",
    "        'input_format': 'parquet'\n",
    "    },\n",
    "    'SalesLT_CustomerAddress': {\n",
    "        'file_path': 'abfss://landingzone@adlslmcompany.dfs.core.windows.net/SalesLT/SalesLT_CustomerAddress.parquet',\n",
    "        'table_name': 'SalesLT_CustomerAddres',\n",
    "        'schema_name': 'managed_bronze',\n",
    "        'input_format': 'parquet'\n",
    "    },\n",
    "    'SalesLT_Product': {\n",
    "        'file_path': 'abfss://landingzone@adlslmcompany.dfs.core.windows.net/SalesLT/SalesLT_Product.parquet',\n",
    "        'table_name': 'SalesLT_Product',\n",
    "        'schema_name': 'managed_bronze',\n",
    "        'input_format': 'parquet'\n",
    "    },\n",
    "    'SalesLT_ProductCategory': {\n",
    "        'file_path': 'abfss://landingzone@adlslmcompany.dfs.core.windows.net/SalesLT/SalesLT_ProductCategory.parquet',\n",
    "        'table_name': 'SalesLT_ProductCategory',\n",
    "        'schema_name': 'managed_bronze',\n",
    "        'input_format': 'parquet'\n",
    "    },\n",
    "    'SalesLT_ProductDescription': {\n",
    "        'file_path': 'abfss://landingzone@adlslmcompany.dfs.core.windows.net/SalesLT/SalesLT_ProductDescription.parquet',\n",
    "        'table_name': 'SalesLT_ProductDescription',\n",
    "        'schema_name': 'managed_bronze',\n",
    "        'input_format': 'parquet'\n",
    "    },\n",
    "    'SalesLT_ProductModel': {\n",
    "        'file_path': 'abfss://landingzone@adlslmcompany.dfs.core.windows.net/SalesLT/SalesLT_ProductModel.parquet',\n",
    "        'table_name': 'SalesLT_ProductModel',\n",
    "        'schema_name': 'managed_bronze',\n",
    "        'input_format': 'parquet'\n",
    "    },\n",
    "    'SalesLT_ProductModelProductDescription': {\n",
    "        'file_path': 'abfss://landingzone@adlslmcompany.dfs.core.windows.net/SalesLT/SalesLT_ProductModelProductDescription.parquet',\n",
    "        'table_name': 'SalesLT_ProductModelProductDescription',\n",
    "        'schema_name': 'managed_bronze',\n",
    "        'input_format': 'parquet'\n",
    "    },\n",
    "    'SalesLT_SalesOrderDetail': {\n",
    "        'file_path': 'abfss://landingzone@adlslmcompany.dfs.core.windows.net/SalesLT/SalesLT_SalesOrderDetail.parquet',\n",
    "        'table_name': 'SalesLT_SalesOrderDetail',\n",
    "        'schema_name': 'managed_bronze',\n",
    "        'input_format': 'parquet'\n",
    "    },\n",
    "    'SalesLT_SalesOrderHeader': {\n",
    "        'file_path': 'abfss://landingzone@adlslmcompany.dfs.core.windows.net/SalesLT/SalesLT_SalesOrderHeader.parquet',\n",
    "        'table_name': 'SalesLT_SalesOrderHeader',\n",
    "        'schema_name': 'managed_bronze',\n",
    "        'input_format': 'parquet'\n",
    "    },\n",
    "    'SalesLT_ProductDescription': {\n",
    "        'file_path': 'abfss://landingzone@adlslmcompany.dfs.core.windows.net/SalesLT/SalesLT_ProductDescription.parquet',\n",
    "        'table_name': 'SalesLT_ProductDescription',\n",
    "        'schema_name': 'managed_bronze',\n",
    "        'input_format': 'parquet'\n",
    "    }\n",
    "}\n"
   ]
  }
 ],
 "metadata": {
  "application/vnd.databricks.v1+notebook": {
   "computePreferences": null,
   "dashboards": [],
   "environmentMetadata": {
    "base_environment": "",
    "environment_version": "2"
   },
   "language": "python",
   "notebookMetadata": {
    "pythonIndentUnit": 4
   },
   "notebookName": "Bronze_Config",
   "widgets": {}
  },
  "language_info": {
   "name": "python"
  }
 },
 "nbformat": 4,
 "nbformat_minor": 0
}
