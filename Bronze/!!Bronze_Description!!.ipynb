{
 "cells": [
  {
   "cell_type": "markdown",
   "metadata": {
    "application/vnd.databricks.v1+cell": {
     "cellMetadata": {
      "byteLimit": 2048000,
      "rowLimit": 10000
     },
     "inputWidgets": {},
     "nuid": "74e6885d-fefe-4fc3-97a8-e3124daf2969",
     "showTitle": false,
     "tableResultSettingsMap": {},
     "title": ""
    }
   },
   "source": [
    "In this layer, all necessary data should be ingested from the Landing zone and input into the Bronze zone as Delta files. \n",
    "Additionally, a column to track the date when the data was ingested should be added for tracking purposes.\n",
    "\n",
    "**Note:** This is a non-real project; therefore, the orchestration by Azure Data Factory (ADF) pipelines or Azure Databricks (ADB) workflows, as well as the loading methods, error handling, logging mechanisms, and data validation checks, were not implemented. These steps should be considered in a real project based on the chosen method and company needs.\n",
    "\n",
    "Furthermore, consider implementing data validation checks to ensure that the ingested data meets the required quality standards before it is written to the Bronze zone."
   ]
  }
 ],
 "metadata": {
  "application/vnd.databricks.v1+notebook": {
   "computePreferences": null,
   "dashboards": [],
   "environmentMetadata": {
    "base_environment": "",
    "environment_version": "2"
   },
   "language": "python",
   "notebookMetadata": {
    "pythonIndentUnit": 4
   },
   "notebookName": "!!Bronze_Description!!",
   "widgets": {}
  },
  "language_info": {
   "name": "python"
  }
 },
 "nbformat": 4,
 "nbformat_minor": 0
}
