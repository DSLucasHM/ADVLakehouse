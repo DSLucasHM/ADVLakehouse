{
 "cells": [
  {
   "cell_type": "markdown",
   "metadata": {
    "application/vnd.databricks.v1+cell": {
     "cellMetadata": {
      "byteLimit": 2048000,
      "rowLimit": 10000
     },
     "inputWidgets": {},
     "nuid": "e1db2e6d-2f00-4f20-b626-b1ed50edb1e0",
     "showTitle": false,
     "tableResultSettingsMap": {},
     "title": ""
    }
   },
   "source": [
    "**Ingesting all landing zone parquet files to bronze delta files**"
   ]
  },
  {
   "cell_type": "code",
   "execution_count": 0,
   "metadata": {
    "application/vnd.databricks.v1+cell": {
     "cellMetadata": {
      "byteLimit": 2048000,
      "implicitDf": true,
      "rowLimit": 10000
     },
     "inputWidgets": {},
     "nuid": "7efb4e3c-7b8e-4668-bd8c-b2c9bedab153",
     "showTitle": false,
     "tableResultSettingsMap": {},
     "title": ""
    }
   },
   "outputs": [],
   "source": [
    "%sql\n",
    "SHOW EXTERNAL LOCATIONS;"
   ]
  },
  {
   "cell_type": "code",
   "execution_count": 0,
   "metadata": {
    "application/vnd.databricks.v1+cell": {
     "cellMetadata": {
      "byteLimit": 2048000,
      "rowLimit": 10000
     },
     "inputWidgets": {},
     "nuid": "82dbae1f-65d1-4ad2-b322-e6af830a73b8",
     "showTitle": false,
     "tableResultSettingsMap": {},
     "title": ""
    }
   },
   "outputs": [],
   "source": [
    "#Creating ingest function and adding ingestion timestamp to each table\n",
    "from pyspark.sql.functions import current_timestamp\n",
    "\n",
    "def ingest_bronze_and_save(file_path, table_name, schema_name):\n",
    "    print(f'Reading File: {table_name}')\n",
    "\n",
    "    df = spark.read.format('parquet').load(file_path)\n",
    "\n",
    "    print(f'Transforming: {table_name}')\n",
    "    df = df.withColumn('bronze_ingestion_timestamp', current_timestamp())\n",
    "\n",
    "    print(f'Saving: {table_name}')\n",
    "    df.write.mode('overwrite').option('overwriteSchema','True').format('delta').saveAsTable(f\"adlslmcompany_bronze.{schema_name}.{table_name}\")\n",
    "\n",
    "    print(f\"Success: {schema_name}.{table_name}\")"
   ]
  },
  {
   "cell_type": "code",
   "execution_count": 0,
   "metadata": {
    "application/vnd.databricks.v1+cell": {
     "cellMetadata": {
      "byteLimit": 2048000,
      "rowLimit": 10000
     },
     "inputWidgets": {},
     "nuid": "f1cbfaa4-4261-492a-9c8e-63b427af3c96",
     "showTitle": false,
     "tableResultSettingsMap": {},
     "title": ""
    }
   },
   "outputs": [],
   "source": [
    "%run \"./Bronze_Config\"  "
   ]
  },
  {
   "cell_type": "code",
   "execution_count": 0,
   "metadata": {
    "application/vnd.databricks.v1+cell": {
     "cellMetadata": {
      "byteLimit": 2048000,
      "rowLimit": 10000
     },
     "inputWidgets": {},
     "nuid": "8838aee2-3ce7-4231-bbb5-e7963de8f0cf",
     "showTitle": false,
     "tableResultSettingsMap": {},
     "title": ""
    }
   },
   "outputs": [],
   "source": [
    "df = spark.read.format('parquet').load('abfss://landingzone@adlslmcompany.dfs.core.windows.net/SalesLT/SalesLT_Address.parquet')"
   ]
  },
  {
   "cell_type": "code",
   "execution_count": 0,
   "metadata": {
    "application/vnd.databricks.v1+cell": {
     "cellMetadata": {
      "byteLimit": 2048000,
      "rowLimit": 10000
     },
     "inputWidgets": {},
     "nuid": "d0237f3c-c09b-4c5f-99f0-be2de219caae",
     "showTitle": false,
     "tableResultSettingsMap": {},
     "title": ""
    }
   },
   "outputs": [],
   "source": [
    "\n",
    "from concurrent.futures import ThreadPoolExecutor, as_completed\n",
    "\n",
    "\n",
    "# Processing items\n",
    "def process_config(item):\n",
    "    file_path = configs[item]['file_path']\n",
    "    schema_name = configs[item]['schema_name']\n",
    "    table_name = configs[item]['table_name']\n",
    "    ingest_bronze_and_save(file_path=file_path, table_name=table_name, schema_name=schema_name)\n",
    "\n",
    "# Max workers\n",
    "max_workers = 25\n",
    "\n",
    "# Executing and managing threads\n",
    "with ThreadPoolExecutor(max_workers=max_workers) as executor:\n",
    "    futures = {executor.submit(process_config, item): item for item in configs}\n",
    "\n",
    "    # Results by item\n",
    "    for future in as_completed(futures):\n",
    "        item = futures[future]\n",
    "        try:\n",
    "            future.result()\n",
    "            print(f\"{item} succeed.\")\n",
    "        except Exception as e:\n",
    "            print(f\"Error {item}: {e}\")\n"
   ]
  }
 ],
 "metadata": {
  "application/vnd.databricks.v1+notebook": {
   "computePreferences": null,
   "dashboards": [],
   "environmentMetadata": {
    "base_environment": "",
    "environment_version": "2"
   },
   "language": "python",
   "notebookMetadata": {
    "mostRecentlyExecutedCommandWithImplicitDF": {
     "commandId": 4955128439484781,
     "dataframes": [
      "_sqldf"
     ]
    },
    "pythonIndentUnit": 4
   },
   "notebookName": "Bronze_Ingestion (Not in use, With Loop)",
   "widgets": {}
  },
  "language_info": {
   "name": "python"
  }
 },
 "nbformat": 4,
 "nbformat_minor": 0
}
