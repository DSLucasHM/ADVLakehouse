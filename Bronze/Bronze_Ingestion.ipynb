{
 "cells": [
  {
   "cell_type": "markdown",
   "metadata": {
    "application/vnd.databricks.v1+cell": {
     "cellMetadata": {
      "byteLimit": 2048000,
      "rowLimit": 10000
     },
     "inputWidgets": {},
     "nuid": "e1db2e6d-2f00-4f20-b626-b1ed50edb1e0",
     "showTitle": false,
     "tableResultSettingsMap": {},
     "title": ""
    }
   },
   "source": [
    "**Ingesting all landing zone parquet files to bronze delta files**"
   ]
  },
  {
   "cell_type": "code",
   "execution_count": 0,
   "metadata": {
    "application/vnd.databricks.v1+cell": {
     "cellMetadata": {
      "byteLimit": 2048000,
      "rowLimit": 10000
     },
     "inputWidgets": {},
     "nuid": "eeb3ac50-b345-48f4-9545-c8ce2a330be5",
     "showTitle": false,
     "tableResultSettingsMap": {},
     "title": ""
    }
   },
   "outputs": [],
   "source": [
    "#Parameters\n",
    "\n",
    "dbutils.widgets.text('table_name','','')\n",
    "dbutils.widgets.text('schema_name','','')\n",
    "\n",
    "table_name = dbutils.widgets.get(\"table_name\")\n",
    "schema_name = dbutils.widgets.get(\"schema_name\")"
   ]
  },
  {
   "cell_type": "code",
   "execution_count": 0,
   "metadata": {
    "application/vnd.databricks.v1+cell": {
     "cellMetadata": {
      "byteLimit": 2048000,
      "rowLimit": 10000
     },
     "inputWidgets": {},
     "nuid": "7112a42e-fe44-4054-957b-893d04a7d92a",
     "showTitle": false,
     "tableResultSettingsMap": {},
     "title": ""
    }
   },
   "outputs": [],
   "source": [
    "#Creating ingest function and adding ingestion timestamp to each table\n",
    "from pyspark.sql.functions import current_timestamp\n",
    "\n",
    "def ingest_bronze_and_save( table_name, schema_name): \n",
    "\n",
    "    df = spark.read.format('parquet').load(f'abfss://landingzone@adlslmcompany.dfs.core.windows.net/{schema_name}/{table_name}.parquet')\n",
    "\n",
    "    df = df.withColumn('bronze_ingestion_timestamp', current_timestamp())\n",
    "\n",
    "    df.write.mode('overwrite').option('overwriteSchema','True').format('delta').saveAsTable(f\"adlslmcompany_bronze.managed_bronze.{table_name}\")\n",
    "\n",
    "    print(f\"Success: {schema_name}.{table_name}\")\n",
    "\n",
    "\n",
    "   "
   ]
  },
  {
   "cell_type": "code",
   "execution_count": 0,
   "metadata": {
    "application/vnd.databricks.v1+cell": {
     "cellMetadata": {
      "byteLimit": 2048000,
      "rowLimit": 10000
     },
     "inputWidgets": {},
     "nuid": "e44758be-c1ea-47fc-9766-c06b906a3707",
     "showTitle": false,
     "tableResultSettingsMap": {},
     "title": ""
    }
   },
   "outputs": [],
   "source": [
    "#Ingesting the file\n",
    "ingest_bronze_and_save( table_name=table_name, schema_name=schema_name)"
   ]
  }
 ],
 "metadata": {
  "application/vnd.databricks.v1+notebook": {
   "computePreferences": null,
   "dashboards": [],
   "environmentMetadata": {
    "base_environment": "",
    "environment_version": "2"
   },
   "language": "python",
   "notebookMetadata": {
    "pythonIndentUnit": 4
   },
   "notebookName": "Bronze_Ingestion",
   "widgets": {
    "schema_name": {
     "currentValue": "SalesLT",
     "nuid": "60a53de7-ac7d-4b31-b5b4-7051f501f079",
     "typedWidgetInfo": {
      "autoCreated": false,
      "defaultValue": "",
      "label": "",
      "name": "schema_name",
      "options": {
       "widgetDisplayType": "Text",
       "validationRegex": null
      },
      "parameterDataType": "String"
     },
     "widgetInfo": {
      "widgetType": "text",
      "defaultValue": "",
      "label": "",
      "name": "schema_name",
      "options": {
       "widgetType": "text",
       "autoCreated": null,
       "validationRegex": null
      }
     }
    },
    "table_name": {
     "currentValue": "SalesLT_Address",
     "nuid": "39cafd41-feeb-430d-8aa8-a0b2575cd925",
     "typedWidgetInfo": {
      "autoCreated": false,
      "defaultValue": "",
      "label": "",
      "name": "table_name",
      "options": {
       "widgetDisplayType": "Text",
       "validationRegex": null
      },
      "parameterDataType": "String"
     },
     "widgetInfo": {
      "widgetType": "text",
      "defaultValue": "",
      "label": "",
      "name": "table_name",
      "options": {
       "widgetType": "text",
       "autoCreated": null,
       "validationRegex": null
      }
     }
    }
   }
  },
  "language_info": {
   "name": "python"
  }
 },
 "nbformat": 4,
 "nbformat_minor": 0
}
