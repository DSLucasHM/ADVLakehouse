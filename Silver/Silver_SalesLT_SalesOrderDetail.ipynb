{
 "cells": [
  {
   "cell_type": "markdown",
   "metadata": {
    "application/vnd.databricks.v1+cell": {
     "cellMetadata": {},
     "inputWidgets": {},
     "nuid": "683bc4da-2022-4973-92b3-d261cc6d0f64",
     "showTitle": false,
     "tableResultSettingsMap": {},
     "title": ""
    }
   },
   "source": [
    "SalesLT_SalesOrderDetail"
   ]
  },
  {
   "cell_type": "code",
   "execution_count": 0,
   "metadata": {
    "application/vnd.databricks.v1+cell": {
     "cellMetadata": {
      "byteLimit": 2048000,
      "rowLimit": 10000
     },
     "inputWidgets": {},
     "nuid": "72e963af-b2c0-41bd-98cb-76df2e0fc835",
     "showTitle": false,
     "tableResultSettingsMap": {},
     "title": ""
    }
   },
   "outputs": [],
   "source": [
    "# Enable auto merge\n",
    "\n",
    "spark.sql(\"SET spark.databricks.delta.schema.autoMerge.enabled = true\")\n"
   ]
  },
  {
   "cell_type": "code",
   "execution_count": 0,
   "metadata": {
    "application/vnd.databricks.v1+cell": {
     "cellMetadata": {
      "byteLimit": 2048000,
      "rowLimit": 10000
     },
     "inputWidgets": {},
     "nuid": "9a2ff239-2ce8-4adf-8514-1bf1e857551a",
     "showTitle": false,
     "tableResultSettingsMap": {},
     "title": ""
    }
   },
   "outputs": [],
   "source": [
    "from pyspark.sql import DataFrame, Window\n",
    "from pyspark.sql import functions as F\n",
    "from pyspark.sql.types import (\n",
    "    DecimalType, IntegerType, StringType, TimestampType, StructType, StructField\n",
    ")\n",
    "from pyspark.sql.functions import col, count, desc, when, datediff, current_date"
   ]
  },
  {
   "cell_type": "code",
   "execution_count": 0,
   "metadata": {
    "application/vnd.databricks.v1+cell": {
     "cellMetadata": {
      "byteLimit": 2048000,
      "rowLimit": 10000
     },
     "inputWidgets": {},
     "nuid": "2ec7446e-ab6c-4ba7-9343-118e186900f8",
     "showTitle": false,
     "tableResultSettingsMap": {},
     "title": ""
    }
   },
   "outputs": [],
   "source": [
    "%run \"/Workspace/Utils/Utils\""
   ]
  },
  {
   "cell_type": "code",
   "execution_count": 0,
   "metadata": {
    "application/vnd.databricks.v1+cell": {
     "cellMetadata": {
      "byteLimit": 2048000,
      "rowLimit": 10000
     },
     "inputWidgets": {},
     "nuid": "6a85bcbd-7852-4647-b662-8d37d6f43689",
     "showTitle": false,
     "tableResultSettingsMap": {},
     "title": ""
    }
   },
   "outputs": [],
   "source": [
    "#Loading Table\n",
    "\n",
    "df = spark.table(\"adlslmcompany_bronze.managed_bronze.saleslt_salesorderdetail\")"
   ]
  },
  {
   "cell_type": "code",
   "execution_count": 0,
   "metadata": {
    "application/vnd.databricks.v1+cell": {
     "cellMetadata": {
      "byteLimit": 2048000,
      "rowLimit": 10000
     },
     "inputWidgets": {},
     "nuid": "a54785f3-4d9d-4fda-b4fe-a018e4b63f4a",
     "showTitle": false,
     "tableResultSettingsMap": {},
     "title": ""
    }
   },
   "outputs": [],
   "source": [
    "#Displaying table\n",
    "\n",
    "df.display()"
   ]
  },
  {
   "cell_type": "code",
   "execution_count": 0,
   "metadata": {
    "application/vnd.databricks.v1+cell": {
     "cellMetadata": {
      "byteLimit": 2048000,
      "rowLimit": 10000
     },
     "inputWidgets": {},
     "nuid": "40eaa537-9ecd-4801-9bee-e6fdb638327c",
     "showTitle": false,
     "tableResultSettingsMap": {},
     "title": ""
    }
   },
   "outputs": [],
   "source": [
    "#Checking for duplicated ID's\n",
    "\n",
    "checkduplicates(df, \"SalesOrderDetailID\" )"
   ]
  },
  {
   "cell_type": "code",
   "execution_count": 0,
   "metadata": {
    "application/vnd.databricks.v1+cell": {
     "cellMetadata": {
      "byteLimit": 2048000,
      "rowLimit": 10000
     },
     "inputWidgets": {},
     "nuid": "2ac8b312-9676-4ef9-a38c-bf8ff9658c23",
     "showTitle": false,
     "tableResultSettingsMap": {},
     "title": ""
    }
   },
   "outputs": [],
   "source": [
    "# Identifying outliers in the numerical columns  using the IQR method\n",
    "iqr_outlier(df, \"UnitPrice\")"
   ]
  },
  {
   "cell_type": "markdown",
   "metadata": {
    "application/vnd.databricks.v1+cell": {
     "cellMetadata": {
      "byteLimit": 2048000,
      "rowLimit": 10000
     },
     "inputWidgets": {},
     "nuid": "b49790d4-160f-4ab3-ad0f-e0d131f225ce",
     "showTitle": false,
     "tableResultSettingsMap": {},
     "title": ""
    }
   },
   "source": [
    "In this context, even though we have some outliers, those values are not errors in input, but only expensive unit price products.\n",
    "Therefore, for the silver layer, they should not be deleted."
   ]
  },
  {
   "cell_type": "code",
   "execution_count": 0,
   "metadata": {
    "application/vnd.databricks.v1+cell": {
     "cellMetadata": {
      "byteLimit": 2048000,
      "rowLimit": 10000
     },
     "inputWidgets": {},
     "nuid": "475b8899-d735-4295-b459-4d8015bea144",
     "showTitle": false,
     "tableResultSettingsMap": {},
     "title": ""
    }
   },
   "outputs": [],
   "source": [
    "iqr_outlier(df, \"UnitPriceDiscount\" ) "
   ]
  },
  {
   "cell_type": "markdown",
   "metadata": {
    "application/vnd.databricks.v1+cell": {
     "cellMetadata": {},
     "inputWidgets": {},
     "nuid": "5bacc661-d5c0-492a-9bf7-b144711f1fab",
     "showTitle": false,
     "tableResultSettingsMap": {},
     "title": ""
    }
   },
   "source": [
    "In this context, although we observe some outliers, these values do not represent input errors; rather, they pertain to standard discounts. Therefore, for the silver layer, these should not be removed."
   ]
  },
  {
   "cell_type": "code",
   "execution_count": 0,
   "metadata": {
    "application/vnd.databricks.v1+cell": {
     "cellMetadata": {
      "byteLimit": 2048000,
      "rowLimit": 10000
     },
     "inputWidgets": {},
     "nuid": "07172856-1e71-40de-a1ce-dbf4c76151e9",
     "showTitle": false,
     "tableResultSettingsMap": {},
     "title": ""
    }
   },
   "outputs": [],
   "source": [
    "iqr_outlier(df, \"LineTotal\") "
   ]
  },
  {
   "cell_type": "markdown",
   "metadata": {
    "application/vnd.databricks.v1+cell": {
     "cellMetadata": {},
     "inputWidgets": {},
     "nuid": "5440fb59-16de-4252-9088-238d1f2c3a9e",
     "showTitle": false,
     "tableResultSettingsMap": {},
     "title": ""
    }
   },
   "source": [
    "In this context, although we observe some outliers, these values do not represent input errors; rather, they pertain to expensive products or large orders. Therefore, for the silver layer, these should not be removed."
   ]
  },
  {
   "cell_type": "markdown",
   "metadata": {
    "application/vnd.databricks.v1+cell": {
     "cellMetadata": {},
     "inputWidgets": {},
     "nuid": "ae9b3d01-7b84-4dcb-bd4e-5891ad2cb564",
     "showTitle": false,
     "tableResultSettingsMap": {},
     "title": ""
    }
   },
   "source": [
    "In this case, no outliers or duplicated values were identified; therefore, only the silver stamp column will be added."
   ]
  },
  {
   "cell_type": "code",
   "execution_count": 0,
   "metadata": {
    "application/vnd.databricks.v1+cell": {
     "cellMetadata": {
      "byteLimit": 2048000,
      "rowLimit": 10000
     },
     "inputWidgets": {},
     "nuid": "c0ee35f5-0364-4e3b-91c2-cb2b3a7b4381",
     "showTitle": false,
     "tableResultSettingsMap": {},
     "title": ""
    }
   },
   "outputs": [],
   "source": [
    "def silver_clean_salesorderdetail(df): \n",
    "\n",
    "    # Adds transformation Date column\n",
    "    df = df.withColumn(\"silves_transformed_timestamp\", F.current_timestamp())\n",
    "\n",
    "    #Cast to ensure datatype\n",
    "    df = df.select(\n",
    "         F.col('SalesOrderID').cast(IntegerType()).alias('SalesOrderID'),\n",
    "         F.col('SalesOrderDetailID').cast(IntegerType()).alias('SalesOrderDetailID'),\n",
    "         F.col('OrderQty').cast(IntegerType()).alias('OrderQty'),\n",
    "         F.col('ProductID').cast(IntegerType()).alias('ProductID'),\n",
    "         F.col('UnitPrice').cast(DecimalType(19,4)).alias('UnitPrice'),\n",
    "         F.col('UnitPriceDiscount').cast(DecimalType(19,4)).alias('UnitPriceDiscount'),\n",
    "         F.col('LineTotal').cast(DecimalType(38,6)).alias('LineTotal'),\n",
    "         F.col('rowguid').cast(StringType()).alias('rowguid'),\n",
    "         F.col('ModifiedDate').cast(TimestampType()).alias('ModifiedDate'),\n",
    "         F.col('bronze_ingestion_timestamp').cast(TimestampType()).alias('bronze_ingestion_timestamp'),\n",
    "         F.col('silves_transformed_timestamp').cast(TimestampType()).alias('silves_transformed_timestamp'),\n",
    "                 )\n",
    "    return df"
   ]
  },
  {
   "cell_type": "code",
   "execution_count": 0,
   "metadata": {
    "application/vnd.databricks.v1+cell": {
     "cellMetadata": {
      "byteLimit": 2048000,
      "rowLimit": 10000
     },
     "inputWidgets": {},
     "nuid": "17899295-6cf8-46d9-8102-f18d862d2694",
     "showTitle": false,
     "tableResultSettingsMap": {},
     "title": ""
    }
   },
   "outputs": [],
   "source": [
    "#Defining expected schema\n",
    "expected_schema = StructType([\n",
    "    StructField(\"SalesOrderID\", IntegerType(), False),             \n",
    "    StructField(\"SalesOrderDetailID\", IntegerType(), False),\n",
    "    StructField(\"OrderQty\", IntegerType(), False),\n",
    "    StructField(\"ProductID\", IntegerType(), False),\n",
    "    StructField(\"UnitPrice\", DecimalType(19,4), False),\n",
    "    StructField(\"UnitPriceDiscount\", DecimalType(19,4), False),\n",
    "    StructField(\"LineTotal\", DecimalType(38,6), False),\n",
    "    StructField(\"rowguid\", StringType(), False),\n",
    "    StructField(\"ModifiedDate\", TimestampType(), False),\n",
    "    StructField(\"bronze_ingestion_timestamp\", TimestampType(), False),\n",
    "    StructField(\"silves_transformed_timestamp\", TimestampType(), False),\n",
    "                            ])"
   ]
  },
  {
   "cell_type": "code",
   "execution_count": 0,
   "metadata": {
    "application/vnd.databricks.v1+cell": {
     "cellMetadata": {
      "byteLimit": 2048000,
      "rowLimit": 10000
     },
     "inputWidgets": {},
     "nuid": "b20d489d-4421-470c-bca3-5387521cd693",
     "showTitle": false,
     "tableResultSettingsMap": {},
     "title": ""
    }
   },
   "outputs": [],
   "source": [
    "# Transforming df\n",
    "silver_df = silver_clean_salesorderdetail(df)"
   ]
  },
  {
   "cell_type": "code",
   "execution_count": 0,
   "metadata": {
    "application/vnd.databricks.v1+cell": {
     "cellMetadata": {
      "byteLimit": 2048000,
      "rowLimit": 10000
     },
     "inputWidgets": {},
     "nuid": "ea34a99d-af4c-4162-8fb7-fbb0db7d1af3",
     "showTitle": false,
     "tableResultSettingsMap": {},
     "title": ""
    }
   },
   "outputs": [],
   "source": [
    "#Comparing lenghts\n",
    "\n",
    "compare_lengths(df, silver_df)"
   ]
  },
  {
   "cell_type": "markdown",
   "metadata": {
    "application/vnd.databricks.v1+cell": {
     "cellMetadata": {},
     "inputWidgets": {},
     "nuid": "f6673369-62e0-4766-9d08-073d4aaa5565",
     "showTitle": false,
     "tableResultSettingsMap": {},
     "title": ""
    }
   },
   "source": [
    "**IMPORTANT: Please note that this is a simulated project; the upsert operation will be executed within this notebook. In a production environment, a dedicated notebook containing only the function and validations would be developed. All function notebooks would be orchestrated by Azure Data Factory (ADF) pipelines or Azure Databricks (ADB) workflows. The method of upsert may vary based on the utilization of auto loader, streaming, or Change Data Feed (CDF).**"
   ]
  },
  {
   "cell_type": "code",
   "execution_count": 0,
   "metadata": {
    "application/vnd.databricks.v1+cell": {
     "cellMetadata": {
      "byteLimit": 2048000,
      "rowLimit": 10000
     },
     "inputWidgets": {},
     "nuid": "821df23b-983e-404d-aa4b-c14d23f3dbe1",
     "showTitle": false,
     "tableResultSettingsMap": {},
     "title": ""
    }
   },
   "outputs": [],
   "source": [
    "#Loading into the Silver Layer \n",
    "\n",
    "\n",
    "target_table= \"sales_orderdetail\"   \n",
    "\n",
    "schema = \"managed_silver\"\n",
    "\n",
    "catalog = \"adlslmcompany_silver\"\n",
    "\n",
    "primary_keys = [\"SalesOrderID\"]\n",
    "\n",
    "\n",
    "_upsert_silver_table(silver_df, target_table, primary_keys, schema, catalog )"
   ]
  }
 ],
 "metadata": {
  "application/vnd.databricks.v1+notebook": {
   "computePreferences": null,
   "dashboards": [],
   "environmentMetadata": {
    "base_environment": "",
    "environment_version": "2"
   },
   "language": "python",
   "notebookMetadata": {
    "pythonIndentUnit": 4
   },
   "notebookName": "Silver_SalesLT_SalesOrderDetail",
   "widgets": {}
  },
  "language_info": {
   "name": "python"
  }
 },
 "nbformat": 4,
 "nbformat_minor": 0
}
