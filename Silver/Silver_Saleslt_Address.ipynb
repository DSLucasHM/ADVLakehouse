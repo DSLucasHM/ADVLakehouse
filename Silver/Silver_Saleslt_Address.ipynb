{
 "cells": [
  {
   "cell_type": "markdown",
   "metadata": {
    "application/vnd.databricks.v1+cell": {
     "cellMetadata": {
      "byteLimit": 2048000,
      "rowLimit": 10000
     },
     "inputWidgets": {},
     "nuid": "3a48b7f0-e83d-488d-b77e-26033b2895b4",
     "showTitle": false,
     "tableResultSettingsMap": {},
     "title": ""
    }
   },
   "source": [
    "**SalesLT_Address**"
   ]
  },
  {
   "cell_type": "code",
   "execution_count": 0,
   "metadata": {
    "application/vnd.databricks.v1+cell": {
     "cellMetadata": {
      "byteLimit": 2048000,
      "rowLimit": 10000
     },
     "inputWidgets": {},
     "nuid": "53a28b77-807c-4631-aac5-0e3a951bdfae",
     "showTitle": false,
     "tableResultSettingsMap": {},
     "title": ""
    }
   },
   "outputs": [],
   "source": [
    "# For this table, there is a business rule that for analytical purposes, all addresses from South America should be grouped into a single value \"Others\". This includes the corresponding State and City fields.\n",
    "# \n",
    "# This applies to countries in South America."
   ]
  },
  {
   "cell_type": "code",
   "execution_count": 0,
   "metadata": {
    "application/vnd.databricks.v1+cell": {
     "cellMetadata": {
      "byteLimit": 2048000,
      "rowLimit": 10000
     },
     "inputWidgets": {},
     "nuid": "a52f62f9-f779-42fe-8935-3f39b5f37230",
     "showTitle": false,
     "tableResultSettingsMap": {},
     "title": ""
    }
   },
   "outputs": [],
   "source": [
    "# Enable auto merge\n",
    "\n",
    "spark.sql(\"SET spark.databricks.delta.schema.autoMerge.enabled = true\")"
   ]
  },
  {
   "cell_type": "code",
   "execution_count": 0,
   "metadata": {
    "application/vnd.databricks.v1+cell": {
     "cellMetadata": {
      "byteLimit": 2048000,
      "rowLimit": 10000
     },
     "inputWidgets": {},
     "nuid": "2a048a39-aa0f-437b-be4b-89abcb206b3c",
     "showTitle": false,
     "tableResultSettingsMap": {},
     "title": ""
    }
   },
   "outputs": [],
   "source": [
    "%run \"/Workspace/Utils/Utils\"\n"
   ]
  },
  {
   "cell_type": "code",
   "execution_count": 0,
   "metadata": {
    "application/vnd.databricks.v1+cell": {
     "cellMetadata": {
      "byteLimit": 2048000,
      "rowLimit": 10000
     },
     "inputWidgets": {},
     "nuid": "e6911296-15a2-4fca-82ee-3f2dc0b69fa6",
     "showTitle": false,
     "tableResultSettingsMap": {},
     "title": ""
    }
   },
   "outputs": [],
   "source": [
    "from pyspark.sql import DataFrame, Window\n",
    "from pyspark.sql import functions as F\n",
    "from pyspark.sql.types import (\n",
    "    IntegerType, StringType, TimestampType, StructType, StructField\n",
    ")\n"
   ]
  },
  {
   "cell_type": "code",
   "execution_count": 0,
   "metadata": {
    "application/vnd.databricks.v1+cell": {
     "cellMetadata": {
      "byteLimit": 2048000,
      "rowLimit": 10000
     },
     "inputWidgets": {},
     "nuid": "e78ed9bb-9b3f-4647-863f-b6f3a37bf0bf",
     "showTitle": false,
     "tableResultSettingsMap": {},
     "title": ""
    }
   },
   "outputs": [],
   "source": [
    "#Loading Table\n",
    "\n",
    "df = spark.table(\"adlslmcompany_bronze.managed_bronze.saleslt_address\")"
   ]
  },
  {
   "cell_type": "code",
   "execution_count": 0,
   "metadata": {
    "application/vnd.databricks.v1+cell": {
     "cellMetadata": {
      "byteLimit": 2048000,
      "rowLimit": 10000
     },
     "inputWidgets": {},
     "nuid": "cfe5db21-4421-4b9d-8931-76fabb2d6add",
     "showTitle": false,
     "tableResultSettingsMap": {},
     "title": ""
    }
   },
   "outputs": [],
   "source": [
    "#Displaying table\n",
    "\n",
    "df.limit(10).display()"
   ]
  },
  {
   "cell_type": "code",
   "execution_count": 0,
   "metadata": {
    "application/vnd.databricks.v1+cell": {
     "cellMetadata": {
      "byteLimit": 2048000,
      "rowLimit": 10000
     },
     "inputWidgets": {},
     "nuid": "90bda4c2-7ae7-40fa-ba4a-31ffa1ca6ec5",
     "showTitle": false,
     "tableResultSettingsMap": {},
     "title": ""
    }
   },
   "outputs": [],
   "source": [
    "#Checking for duplicated values\n",
    "\n",
    "checkduplicates(df, \"AddressID\" )"
   ]
  },
  {
   "cell_type": "code",
   "execution_count": 0,
   "metadata": {
    "application/vnd.databricks.v1+cell": {
     "cellMetadata": {
      "byteLimit": 2048000,
      "rowLimit": 10000
     },
     "inputWidgets": {},
     "nuid": "1efabf15-22b5-4c0c-8fe6-4b540896b292",
     "showTitle": false,
     "tableResultSettingsMap": {},
     "title": ""
    }
   },
   "outputs": [],
   "source": [
    "# Analyzing the distribution of addresses by country regions\n",
    "graphbycolumnd(df, \"CountryRegion\")"
   ]
  },
  {
   "cell_type": "code",
   "execution_count": 0,
   "metadata": {
    "application/vnd.databricks.v1+cell": {
     "cellMetadata": {
      "byteLimit": 2048000,
      "rowLimit": 10000
     },
     "inputWidgets": {},
     "nuid": "5dc26a6a-5350-4f7c-9814-8b353c18d860",
     "showTitle": false,
     "tableResultSettingsMap": {},
     "title": ""
    }
   },
   "outputs": [],
   "source": [
    "# This function cleans the Address table based on previous analysis. \n",
    "# For analytical purposes, it retains only the country, city, and state information.\n",
    "def silver_clean_salesaddress(df): \n",
    "    # Drop unnecessary columns\n",
    "    df = df.drop(\"AddressLine1\", \"AddressLine2\", \"PostalCode\")\n",
    "\n",
    "    # List of South American countries\n",
    "    south_american_countries = [\n",
    "        \"Argentina\", \"Bolivia\", \"Brazil\", \"Chile\", \"Colombia\", \"Ecuador\", \n",
    "        \"Guyana\", \"Paraguay\", \"Peru\", \"Suriname\", \"Uruguay\", \"Venezuela\"\n",
    "    ]\n",
    "\n",
    "    # Change South American countries to \"Others\"\n",
    "    df = df.withColumn(\n",
    "        \"CountryRegion\", \n",
    "        F.when(df.CountryRegion.isin(south_american_countries), \"Others\")\n",
    "         .otherwise(df.CountryRegion)\n",
    "    )\n",
    "    \n",
    "    df = df.withColumn(\n",
    "        \"StateProvince\", \n",
    "        F.when(df.CountryRegion == \"Others\", \"Others\")\n",
    "         .otherwise(df.StateProvince)\n",
    "    ).withColumn(\n",
    "        \"City\", \n",
    "        F.when(df.CountryRegion == \"Others\", \"Others\")\n",
    "         .otherwise(df.City)\n",
    "    )\n",
    "\n",
    "    # Adds transformation date column\n",
    "    df = df.withColumn(\"silves_transformed_timestamp\", F.current_timestamp())\n",
    "\n",
    "    # Cast to ensure correct data types\n",
    "    df = df.select(\n",
    "         F.col('AddressID').cast(IntegerType()).alias('AddressID'),\n",
    "         F.col('City').cast(StringType()).alias('City'), \n",
    "         F.col('StateProvince').cast(StringType()).alias('StateProvince'),\n",
    "         F.col('CountryRegion').cast(StringType()).alias('CountryRegion'),\n",
    "         F.col('rowguid').cast(StringType()).alias('rowguid'),\n",
    "         F.col('ModifiedDate').cast(TimestampType()).alias('ModifiedDate'),\n",
    "         F.col('bronze_ingestion_timestamp').cast(TimestampType()).alias('bronze_ingestion_timestamp'),\n",
    "         F.col('silves_transformed_timestamp').cast(TimestampType()).alias('silves_transformed_timestamp'),\n",
    "    )\n",
    "\n",
    "    return df"
   ]
  },
  {
   "cell_type": "code",
   "execution_count": 0,
   "metadata": {
    "application/vnd.databricks.v1+cell": {
     "cellMetadata": {
      "byteLimit": 2048000,
      "rowLimit": 10000
     },
     "inputWidgets": {},
     "nuid": "da7ed37b-f7d8-4cc7-b2d4-ec76226d6421",
     "showTitle": false,
     "tableResultSettingsMap": {},
     "title": ""
    }
   },
   "outputs": [],
   "source": [
    "#Defining expected schema\n",
    "expected_schema = StructType([\n",
    "    StructField(\"AddressID\", IntegerType(), False),             \n",
    "    StructField(\"City\", StringType(), True),                  \n",
    "    StructField(\"StateProvince\", StringType(), True),\n",
    "    StructField(\"CountryRegion\", StringType(), True),\n",
    "    StructField(\"rowguid\", StringType(), False),                \n",
    "    StructField(\"ModifiedDate\", TimestampType(), False) ,\n",
    "    StructField(\"bronze_ingestion_timestamp\", TimestampType(), False),\n",
    "    StructField(\"silves_transformed_timestamp\", TimestampType(), False)\n",
    "                            ])"
   ]
  },
  {
   "cell_type": "code",
   "execution_count": 0,
   "metadata": {
    "application/vnd.databricks.v1+cell": {
     "cellMetadata": {
      "byteLimit": 2048000,
      "rowLimit": 10000
     },
     "inputWidgets": {},
     "nuid": "f953f867-bb19-4bae-aa36-01090e1c2f4c",
     "showTitle": false,
     "tableResultSettingsMap": {},
     "title": ""
    }
   },
   "outputs": [],
   "source": [
    "# Transform df \n",
    "\n",
    "silver_df = silver_clean_salesaddress(df)"
   ]
  },
  {
   "cell_type": "code",
   "execution_count": 0,
   "metadata": {
    "application/vnd.databricks.v1+cell": {
     "cellMetadata": {
      "byteLimit": 2048000,
      "rowLimit": 10000
     },
     "inputWidgets": {},
     "nuid": "4d7b683e-2e82-4c76-8a80-04e875c3af06",
     "showTitle": false,
     "tableResultSettingsMap": {},
     "title": ""
    }
   },
   "outputs": [],
   "source": [
    "# Checking the distribution by countries\n",
    "graphbycolumnd(silver_df, \"CountryRegion\")"
   ]
  },
  {
   "cell_type": "code",
   "execution_count": 0,
   "metadata": {
    "application/vnd.databricks.v1+cell": {
     "cellMetadata": {
      "byteLimit": 2048000,
      "rowLimit": 10000
     },
     "inputWidgets": {},
     "nuid": "f2a0a894-71d5-4e6e-8388-aa97ebb5ae86",
     "showTitle": false,
     "tableResultSettingsMap": {},
     "title": ""
    }
   },
   "outputs": [],
   "source": [
    "#Comparing lenghts\n",
    "\n",
    "compare_lengths(df, silver_df)"
   ]
  },
  {
   "cell_type": "code",
   "execution_count": 0,
   "metadata": {
    "application/vnd.databricks.v1+cell": {
     "cellMetadata": {
      "byteLimit": 2048000,
      "rowLimit": 10000
     },
     "inputWidgets": {},
     "nuid": "695eddda-2b5f-4044-a530-e08449e0ead7",
     "showTitle": false,
     "tableResultSettingsMap": {},
     "title": ""
    }
   },
   "outputs": [],
   "source": [
    "#Checking the schema \n",
    "_validate_schema(silver_df, expected_schema)"
   ]
  },
  {
   "cell_type": "markdown",
   "metadata": {
    "application/vnd.databricks.v1+cell": {
     "cellMetadata": {
      "byteLimit": 2048000,
      "rowLimit": 10000
     },
     "inputWidgets": {},
     "nuid": "6e7409db-1a2a-4614-abff-40fea88c1260",
     "showTitle": false,
     "tableResultSettingsMap": {},
     "title": ""
    }
   },
   "source": [
    "**IMPORTANT: Please note that this is a simulated project; the upsert operation will be executed within this notebook. In a production environment, a dedicated notebook containing only the function and validations would be developed. All function notebooks would be orchestrated by Azure Data Factory (ADF) pipelines or Azure Databricks (ADB) workflows. The method of upsert may vary based on the utilization of auto loader, streaming, or Change Data Feed (CDF).**"
   ]
  },
  {
   "cell_type": "code",
   "execution_count": 0,
   "metadata": {
    "application/vnd.databricks.v1+cell": {
     "cellMetadata": {
      "byteLimit": 2048000,
      "rowLimit": 10000
     },
     "inputWidgets": {},
     "nuid": "ac579d3b-ead9-4573-b9aa-5ae0ff2bfc15",
     "showTitle": false,
     "tableResultSettingsMap": {},
     "title": ""
    }
   },
   "outputs": [],
   "source": [
    "#Loading into the Silver Layer\n",
    "\n",
    "target_table= \"saleslt_address\"   \n",
    "\n",
    "schema = \"managed_silver\"\n",
    "\n",
    "catalog = \"adlslmcompany_silver\"\n",
    "\n",
    "primary_keys = [\"AddressID\"]\n",
    "\n",
    "\n",
    "upsert_table(silver_df, target_table, primary_keys, schema, catalog )"
   ]
  }
 ],
 "metadata": {
  "application/vnd.databricks.v1+notebook": {
   "computePreferences": null,
   "dashboards": [],
   "environmentMetadata": {
    "base_environment": "",
    "environment_version": "2"
   },
   "language": "python",
   "notebookMetadata": {
    "pythonIndentUnit": 4
   },
   "notebookName": "Silver_Saleslt_Address",
   "widgets": {}
  },
  "language_info": {
   "name": "python"
  }
 },
 "nbformat": 4,
 "nbformat_minor": 0
}
