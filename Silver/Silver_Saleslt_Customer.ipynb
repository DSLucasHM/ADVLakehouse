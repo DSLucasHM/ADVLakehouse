{
 "cells": [
  {
   "cell_type": "markdown",
   "metadata": {
    "application/vnd.databricks.v1+cell": {
     "cellMetadata": {},
     "inputWidgets": {},
     "nuid": "e55e7184-4131-4316-9bd9-b645136603a7",
     "showTitle": false,
     "tableResultSettingsMap": {},
     "title": ""
    }
   },
   "source": [
    "**SalesLT_Customer**"
   ]
  },
  {
   "cell_type": "code",
   "execution_count": 0,
   "metadata": {
    "application/vnd.databricks.v1+cell": {
     "cellMetadata": {
      "byteLimit": 2048000,
      "rowLimit": 10000
     },
     "inputWidgets": {},
     "nuid": "e79233f1-128c-4dcd-95cb-74a0296732c7",
     "showTitle": false,
     "tableResultSettingsMap": {},
     "title": ""
    }
   },
   "outputs": [],
   "source": [
    "# For analytical purposes, the companies \"Trust Sports\", \"RYZN Store\", and \"RadC Outlet\" should be grouped together under the unified store name \"Ryzin Sports\"."
   ]
  },
  {
   "cell_type": "code",
   "execution_count": 0,
   "metadata": {
    "application/vnd.databricks.v1+cell": {
     "cellMetadata": {
      "byteLimit": 2048000,
      "rowLimit": 10000
     },
     "inputWidgets": {},
     "nuid": "3542f9b3-d4f7-464b-bc75-a3aa97960537",
     "showTitle": false,
     "tableResultSettingsMap": {},
     "title": ""
    }
   },
   "outputs": [],
   "source": [
    "# Enable auto merge\n",
    "\n",
    "spark.sql(\"SET spark.databricks.delta.schema.autoMerge.enabled = true\")"
   ]
  },
  {
   "cell_type": "code",
   "execution_count": 0,
   "metadata": {
    "application/vnd.databricks.v1+cell": {
     "cellMetadata": {
      "byteLimit": 2048000,
      "rowLimit": 10000
     },
     "inputWidgets": {},
     "nuid": "4602858e-9599-4491-9b14-f0722da4c019",
     "showTitle": false,
     "tableResultSettingsMap": {},
     "title": ""
    }
   },
   "outputs": [],
   "source": [
    "%run \"/Workspace/Utils/Utils\"\n"
   ]
  },
  {
   "cell_type": "code",
   "execution_count": 0,
   "metadata": {
    "application/vnd.databricks.v1+cell": {
     "cellMetadata": {
      "byteLimit": 2048000,
      "rowLimit": 10000
     },
     "inputWidgets": {},
     "nuid": "d0afa02e-0e38-4474-af0c-22dc974937f4",
     "showTitle": false,
     "tableResultSettingsMap": {},
     "title": ""
    }
   },
   "outputs": [],
   "source": [
    "from pyspark.sql import DataFrame, Window\n",
    "from pyspark.sql import functions as F\n",
    "from pyspark.sql.types import (\n",
    "    IntegerType, StringType, TimestampType, StructType, StructField\n",
    ")\n",
    "from pyspark.sql.functions import col, desc, count"
   ]
  },
  {
   "cell_type": "code",
   "execution_count": 0,
   "metadata": {
    "application/vnd.databricks.v1+cell": {
     "cellMetadata": {
      "byteLimit": 2048000,
      "rowLimit": 10000
     },
     "inputWidgets": {},
     "nuid": "5f511796-8435-47b1-ab72-f32d53143ed8",
     "showTitle": false,
     "tableResultSettingsMap": {},
     "title": ""
    }
   },
   "outputs": [],
   "source": [
    "#Loading Table\n",
    "\n",
    "df = spark.table(\"adlslmcompany_bronze.managed_bronze.saleslt_customer\")"
   ]
  },
  {
   "cell_type": "code",
   "execution_count": 0,
   "metadata": {
    "application/vnd.databricks.v1+cell": {
     "cellMetadata": {
      "byteLimit": 2048000,
      "rowLimit": 10000
     },
     "inputWidgets": {},
     "nuid": "acfc6a70-2a1f-4888-ae82-eb7ff8e7b85e",
     "showTitle": false,
     "tableResultSettingsMap": {},
     "title": ""
    }
   },
   "outputs": [],
   "source": [
    "#Displaying table\n",
    "\n",
    "df.limit(10).display()"
   ]
  },
  {
   "cell_type": "code",
   "execution_count": 0,
   "metadata": {
    "application/vnd.databricks.v1+cell": {
     "cellMetadata": {
      "byteLimit": 2048000,
      "rowLimit": 10000
     },
     "inputWidgets": {},
     "nuid": "14fc6672-d3f2-4cb4-9dd7-1d84b3583bf3",
     "showTitle": false,
     "tableResultSettingsMap": {},
     "title": ""
    }
   },
   "outputs": [],
   "source": [
    "#Checking for duplicated values\n",
    "\n",
    "checkduplicates(df, \"CustomerID\" )"
   ]
  },
  {
   "cell_type": "code",
   "execution_count": 0,
   "metadata": {
    "application/vnd.databricks.v1+cell": {
     "cellMetadata": {
      "byteLimit": 2048000,
      "rowLimit": 10000
     },
     "inputWidgets": {},
     "nuid": "95b6f6c3-7319-42aa-b8a3-2eb789a1a379",
     "showTitle": false,
     "tableResultSettingsMap": {},
     "title": ""
    }
   },
   "outputs": [],
   "source": [
    "# Analyzing the distribution by CompanyName\n",
    "graphbycolumnd(df, \"CompanyName\")"
   ]
  },
  {
   "cell_type": "code",
   "execution_count": 0,
   "metadata": {
    "application/vnd.databricks.v1+cell": {
     "cellMetadata": {
      "byteLimit": 2048000,
      "rowLimit": 10000
     },
     "inputWidgets": {},
     "nuid": "acd2d441-0c0d-430a-bec9-ea0ee9c81d7f",
     "showTitle": false,
     "tableResultSettingsMap": {},
     "title": ""
    }
   },
   "outputs": [],
   "source": [
    "# Based on the previous analysis, the function will be created to clean the Customer table. \n",
    "# It will involve changing certain company names, as well as removing data such as \"PasswordSalt\" and \"PasswordHash\" which are deemed unnecessary for analytical purposes. \n",
    "# Additionally, personal information such as names, phone numbers, and email addresses will either be deleted or anonymized in accordance with company policies, ensuring that such sensitive data is not accessible to those managing the Silver data."
   ]
  },
  {
   "cell_type": "code",
   "execution_count": 0,
   "metadata": {
    "application/vnd.databricks.v1+cell": {
     "cellMetadata": {
      "byteLimit": 2048000,
      "rowLimit": 10000
     },
     "inputWidgets": {},
     "nuid": "35660e3c-8ce0-460e-b3a3-bda1302d93a9",
     "showTitle": false,
     "tableResultSettingsMap": {},
     "title": ""
    }
   },
   "outputs": [],
   "source": [
    "def silver_clean_salescustomer(df): \n",
    "\n",
    "    # Deletes irrelevant columns from the DataFrame\n",
    "    df = df.drop(\"NameStyle\", \"Firstname\", \"MiddleName\", \"LastName\", \"Suffix\", \"PasswordHash\", \"PasswordSalt\" )\n",
    "\n",
    "    # Changes company names based on predefined store names\n",
    "    store_names = [\"Trust Sports\", \"RYZN Store\", \"RadC Outlet\"]\n",
    "    df = df.withColumn(\n",
    "        \"CompanyName\",\n",
    "        F.when(df[\"CompanyName\"].isin(store_names), \"Ryzin Sports\")\n",
    "         .otherwise(df[\"CompanyName\"])\n",
    "    )\n",
    "\n",
    "    # Creates a gender column based on the title column\n",
    "    df = df.withColumn(\"Gender\", F.when(df.Title == \"Mr.\", \"M\").otherwise(\"F\"))\n",
    "\n",
    "    # Extracts SalesPerson from the SalesPerson column\n",
    "    df = df.withColumn(\"SalesPerson\", F.expr(\"substring(SalesPerson, 17, length(SalesPerson) - 14)\"))\n",
    "\n",
    "    # Deletes additional irrelevant columns\n",
    "    df = df.drop(\"NameStyle\", \"Firstname\", \"MiddleName\", \"LastName\", \"Suffix\", \"PasswordHash\", \"PasswordSalt\", \"Title\" )\n",
    "\n",
    "    # Adds columns to indicate if the contact has a phone and email, without displaying the values\n",
    "    df = df.withColumn(\"HasPhone\", F.when(df.Phone.isNotNull(), 1).otherwise(0))\n",
    "    df = df.withColumn(\"HasEmail\", F.when(df.EmailAddress.isNotNull(), 1).otherwise(0))\n",
    "\n",
    "    # Deletes further irrelevant columns\n",
    "    df = df.drop(\"NameStyle\", \"Firstname\", \"MiddleName\", \"LastName\", \"Suffix\", \"PasswordHash\", \"PasswordSalt\", \"Title\", \"Phone\", \"EmailAddress\" )\n",
    "\n",
    "    # Adds transformation date column\n",
    "    df = df.withColumn(\"silves_transformed_timestamp\", F.current_timestamp())\n",
    "\n",
    "    # Casts columns to ensure correct data types\n",
    "    df = df.select(\n",
    "         F.col('CustomerID').cast(IntegerType()).alias('CustomerID'),\n",
    "         F.col('Gender').cast(StringType()).alias('Gender'), \n",
    "         F.col('SalesPerson').cast(StringType()).alias('SalesPerson'),\n",
    "         F.col('CompanyName').cast(StringType()).alias('CompanyName'),\n",
    "         F.col('HasPhone').cast(StringType()).alias('HasPhone'),\n",
    "         F.col('HasEmail').cast(StringType()).alias('HasEmail'),\n",
    "         F.col('rowguid').cast(StringType()).alias('rowguid'),\n",
    "         F.col('ModifiedDate').cast(TimestampType()).alias('ModifiedDate'),\n",
    "         F.col('bronze_ingestion_timestamp').cast(TimestampType()).alias('bronze_ingestion_timestamp'),\n",
    "         F.col('silves_transformed_timestamp').cast(TimestampType()).alias('silves_transformed_timestamp'),\n",
    "    )\n",
    "    return df"
   ]
  },
  {
   "cell_type": "code",
   "execution_count": 0,
   "metadata": {
    "application/vnd.databricks.v1+cell": {
     "cellMetadata": {
      "byteLimit": 2048000,
      "rowLimit": 10000
     },
     "inputWidgets": {},
     "nuid": "9c21caa8-9a0b-4bab-9c70-2ec462d6cca6",
     "showTitle": false,
     "tableResultSettingsMap": {},
     "title": ""
    }
   },
   "outputs": [],
   "source": [
    "#Defining expected schema\n",
    "\n",
    "expected_schema = StructType([\n",
    "    StructField(\"CustomerID\", IntegerType(), False),             \n",
    "    StructField(\"Gender\", StringType(), True),                  \n",
    "    StructField(\"SalesPerson\", StringType(), True),\n",
    "    StructField(\"CompanyName\", StringType(), True),\n",
    "    StructField(\"HasPhone\", StringType(), False),  \n",
    "    StructField(\"HasEmail\", StringType(), False),\n",
    "    StructField(\"rowguid\", StringType(), False),\n",
    "    StructField(\"ModifiedDate\", TimestampType(), False) ,\n",
    "    StructField(\"bronze_ingestion_timestamp\", TimestampType(), False),\n",
    "    StructField(\"silves_transformed_timestamp\", TimestampType(), False)\n",
    "                            ])\n"
   ]
  },
  {
   "cell_type": "code",
   "execution_count": 0,
   "metadata": {
    "application/vnd.databricks.v1+cell": {
     "cellMetadata": {
      "byteLimit": 2048000,
      "rowLimit": 10000
     },
     "inputWidgets": {},
     "nuid": "ef84e06b-70ef-4624-8990-b34290039059",
     "showTitle": false,
     "tableResultSettingsMap": {},
     "title": ""
    }
   },
   "outputs": [],
   "source": [
    "# Transform df \n",
    "\n",
    "\n",
    "silver_df = silver_clean_salescustomer(df)"
   ]
  },
  {
   "cell_type": "code",
   "execution_count": 0,
   "metadata": {
    "application/vnd.databricks.v1+cell": {
     "cellMetadata": {
      "byteLimit": 2048000,
      "rowLimit": 10000
     },
     "inputWidgets": {},
     "nuid": "f7aa2a6c-8bc0-41bd-937e-2e9e032e7e5b",
     "showTitle": false,
     "tableResultSettingsMap": {},
     "title": ""
    }
   },
   "outputs": [],
   "source": [
    "# Checking the distribution by companies\n",
    "\n",
    "graphbycolumnd(silver_df, \"CompanyName\")"
   ]
  },
  {
   "cell_type": "code",
   "execution_count": 0,
   "metadata": {
    "application/vnd.databricks.v1+cell": {
     "cellMetadata": {
      "byteLimit": 2048000,
      "rowLimit": 10000
     },
     "inputWidgets": {},
     "nuid": "b9bc158d-1942-4da3-b3a3-2a710c5ba157",
     "showTitle": false,
     "tableResultSettingsMap": {},
     "title": ""
    }
   },
   "outputs": [],
   "source": [
    "#Comparing lenghts\n",
    "\n",
    "compare_lengths(df, silver_df)"
   ]
  },
  {
   "cell_type": "code",
   "execution_count": 0,
   "metadata": {
    "application/vnd.databricks.v1+cell": {
     "cellMetadata": {
      "byteLimit": 2048000,
      "rowLimit": 10000
     },
     "inputWidgets": {},
     "nuid": "5ab6fe52-203e-4a78-bed1-3f221444562a",
     "showTitle": false,
     "tableResultSettingsMap": {},
     "title": ""
    }
   },
   "outputs": [],
   "source": [
    "#Checking the schema \n",
    "_validate_schema(silver_df, expected_schema)"
   ]
  },
  {
   "cell_type": "markdown",
   "metadata": {
    "application/vnd.databricks.v1+cell": {
     "cellMetadata": {
      "byteLimit": 2048000,
      "rowLimit": 10000
     },
     "inputWidgets": {},
     "nuid": "4862a199-9e6c-413a-845e-0039aa27cce4",
     "showTitle": false,
     "tableResultSettingsMap": {},
     "title": ""
    }
   },
   "source": [
    "**IMPORTANT: Please note that this is a simulated project; the upsert operation will be executed within this notebook. In a production environment, a dedicated notebook containing only the function and validations would be developed. All function notebooks would be orchestrated by Azure Data Factory (ADF) pipelines or Azure Databricks (ADB) workflows. The method of upsert may vary based on the utilization of auto loader, streaming, or Change Data Feed (CDF).**\n"
   ]
  },
  {
   "cell_type": "code",
   "execution_count": 0,
   "metadata": {
    "application/vnd.databricks.v1+cell": {
     "cellMetadata": {
      "byteLimit": 2048000,
      "rowLimit": 10000
     },
     "inputWidgets": {},
     "nuid": "4e4d6111-212b-466a-9011-aff0980c7e46",
     "showTitle": false,
     "tableResultSettingsMap": {},
     "title": ""
    }
   },
   "outputs": [],
   "source": [
    " #Loading into the Silver Layer   \n",
    "\n",
    "target_table= \"saleslt_customer\"   \n",
    "\n",
    "schema = \"managed_silver\"\n",
    "\n",
    "catalog = \"adlslmcompany_silver\"\n",
    "\n",
    "primary_keys = [\"CustomerID\"]\n",
    "\n",
    "\n",
    "upsert_table(silver_df, target_table, primary_keys, schema, catalog )"
   ]
  }
 ],
 "metadata": {
  "application/vnd.databricks.v1+notebook": {
   "computePreferences": null,
   "dashboards": [],
   "environmentMetadata": {
    "base_environment": "",
    "environment_version": "2"
   },
   "language": "python",
   "notebookMetadata": {
    "pythonIndentUnit": 4
   },
   "notebookName": "Silver_Saleslt_Customer",
   "widgets": {}
  },
  "language_info": {
   "name": "python"
  }
 },
 "nbformat": 4,
 "nbformat_minor": 0
}
