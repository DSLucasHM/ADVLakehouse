{
 "cells": [
  {
   "cell_type": "markdown",
   "metadata": {
    "application/vnd.databricks.v1+cell": {
     "cellMetadata": {},
     "inputWidgets": {},
     "nuid": "cdae206b-c330-4bc2-b0b8-902d40fbc9b3",
     "showTitle": false,
     "tableResultSettingsMap": {},
     "title": ""
    }
   },
   "source": [
    "SalesLT_SalesOrderHeader"
   ]
  },
  {
   "cell_type": "code",
   "execution_count": 0,
   "metadata": {
    "application/vnd.databricks.v1+cell": {
     "cellMetadata": {
      "byteLimit": 2048000,
      "rowLimit": 10000
     },
     "inputWidgets": {},
     "nuid": "163c4995-f989-46b9-9ff3-fe791735f50f",
     "showTitle": false,
     "tableResultSettingsMap": {},
     "title": ""
    }
   },
   "outputs": [],
   "source": [
    "# Enable auto merge\n",
    "\n",
    "spark.sql(\"SET spark.databricks.delta.schema.autoMerge.enabled = true\")\n",
    "\n"
   ]
  },
  {
   "cell_type": "code",
   "execution_count": 0,
   "metadata": {
    "application/vnd.databricks.v1+cell": {
     "cellMetadata": {
      "byteLimit": 2048000,
      "rowLimit": 10000
     },
     "inputWidgets": {},
     "nuid": "ba91fd81-5e7c-45f0-8336-4ebbc5fe8de0",
     "showTitle": false,
     "tableResultSettingsMap": {},
     "title": ""
    }
   },
   "outputs": [],
   "source": [
    "from pyspark.sql import DataFrame, Window\n",
    "from pyspark.sql import functions as F\n",
    "from pyspark.sql.types import (\n",
    "    DecimalType, IntegerType, StringType, TimestampType, StructType, StructField, BooleanType\n",
    ")\n",
    "from pyspark.sql.functions import col, count, when, datediff, current_date, desc"
   ]
  },
  {
   "cell_type": "code",
   "execution_count": 0,
   "metadata": {
    "application/vnd.databricks.v1+cell": {
     "cellMetadata": {
      "byteLimit": 2048000,
      "rowLimit": 10000
     },
     "inputWidgets": {},
     "nuid": "76f58e2f-5186-4ad8-9482-2514d5d48066",
     "showTitle": false,
     "tableResultSettingsMap": {},
     "title": ""
    }
   },
   "outputs": [],
   "source": [
    "%run \"/Workspace/Utils/Utils\""
   ]
  },
  {
   "cell_type": "code",
   "execution_count": 0,
   "metadata": {
    "application/vnd.databricks.v1+cell": {
     "cellMetadata": {
      "byteLimit": 2048000,
      "rowLimit": 10000
     },
     "inputWidgets": {},
     "nuid": "0916e76f-b6e5-4eb6-83e2-2e7c95768eea",
     "showTitle": false,
     "tableResultSettingsMap": {},
     "title": ""
    }
   },
   "outputs": [],
   "source": [
    "#Loading Table\n",
    "\n",
    "df = spark.table(\"adlslmcompany_bronze.managed_bronze.saleslt_salesorderheader\")"
   ]
  },
  {
   "cell_type": "code",
   "execution_count": 0,
   "metadata": {
    "application/vnd.databricks.v1+cell": {
     "cellMetadata": {
      "byteLimit": 2048000,
      "rowLimit": 10000
     },
     "inputWidgets": {},
     "nuid": "c76f6f7c-0556-49a6-8a9d-83245ceabccb",
     "showTitle": false,
     "tableResultSettingsMap": {},
     "title": ""
    }
   },
   "outputs": [],
   "source": [
    "df.display()"
   ]
  },
  {
   "cell_type": "code",
   "execution_count": 0,
   "metadata": {
    "application/vnd.databricks.v1+cell": {
     "cellMetadata": {
      "byteLimit": 2048000,
      "rowLimit": 10000
     },
     "inputWidgets": {},
     "nuid": "1a5e76ca-e9b7-4134-a579-74310b6cd266",
     "showTitle": false,
     "tableResultSettingsMap": {},
     "title": ""
    }
   },
   "outputs": [],
   "source": [
    "#Checking for duplicated ID's\n",
    "\n",
    "checkduplicates(df, \"SalesOrderID\" )"
   ]
  },
  {
   "cell_type": "code",
   "execution_count": 0,
   "metadata": {
    "application/vnd.databricks.v1+cell": {
     "cellMetadata": {},
     "inputWidgets": {},
     "nuid": "d32b61b7-2b58-4b94-8ecd-87dd375941dc",
     "showTitle": false,
     "tableResultSettingsMap": {},
     "title": ""
    }
   },
   "outputs": [],
   "source": [
    "# Checking for outliers in numerical columns "
   ]
  },
  {
   "cell_type": "code",
   "execution_count": 0,
   "metadata": {
    "application/vnd.databricks.v1+cell": {
     "cellMetadata": {
      "byteLimit": 2048000,
      "rowLimit": 10000
     },
     "inputWidgets": {},
     "nuid": "ad896f3e-b9ec-4878-9784-248cdaf13393",
     "showTitle": false,
     "tableResultSettingsMap": {},
     "title": ""
    }
   },
   "outputs": [],
   "source": [
    "\n",
    "iqr_outlier(df, \"SubTotal\") \n",
    "\n",
    "# Although the value identified by the IQR outlier function is considered an outlier, it is not an error and should be retained. If necessary, it may be addressed in the gold column depending on the intended use of the table."
   ]
  },
  {
   "cell_type": "code",
   "execution_count": 0,
   "metadata": {
    "application/vnd.databricks.v1+cell": {
     "cellMetadata": {
      "byteLimit": 2048000,
      "rowLimit": 10000
     },
     "inputWidgets": {},
     "nuid": "e5241b14-5e3d-4b15-92b9-a4114bf465c2",
     "showTitle": false,
     "tableResultSettingsMap": {},
     "title": ""
    }
   },
   "outputs": [],
   "source": [
    "iqr_outlier(df, \"TaxAmt\") \n",
    "\n",
    "#Although the value identified by the IQR outlier function is considered an outlier, it is not deemed an error and should be retained. If necessary, it may be addressed in the gold column based on the intended use of the table."
   ]
  },
  {
   "cell_type": "code",
   "execution_count": 0,
   "metadata": {
    "application/vnd.databricks.v1+cell": {
     "cellMetadata": {
      "byteLimit": 2048000,
      "rowLimit": 10000
     },
     "inputWidgets": {},
     "nuid": "92597c1f-e09d-48fc-898b-8d539081c711",
     "showTitle": false,
     "tableResultSettingsMap": {},
     "title": ""
    }
   },
   "outputs": [],
   "source": [
    "iqr_outlier(df, \"Freight\") \n",
    "\n",
    "#Although the value identified by the IQR outlier function is considered an outlier, it is not classified as an error and should be retained. If necessary, it may be addressed in the gold column based on the intended use of the table."
   ]
  },
  {
   "cell_type": "code",
   "execution_count": 0,
   "metadata": {
    "application/vnd.databricks.v1+cell": {
     "cellMetadata": {
      "byteLimit": 2048000,
      "rowLimit": 10000
     },
     "inputWidgets": {},
     "nuid": "834613f3-fad9-4978-8623-8421a27c77ae",
     "showTitle": false,
     "tableResultSettingsMap": {},
     "title": ""
    }
   },
   "outputs": [],
   "source": [
    "iqr_outlier(df, \"TotalDue\") \n",
    "\n",
    "\n",
    "#Although the value identified by the IQR outlier function is considered an outlier, it is not classified as an error and should be retained. If necessary, it may be addressed in the gold column based on the intended use of the table."
   ]
  },
  {
   "cell_type": "code",
   "execution_count": 0,
   "metadata": {
    "application/vnd.databricks.v1+cell": {
     "cellMetadata": {
      "byteLimit": 2048000,
      "rowLimit": 10000
     },
     "inputWidgets": {},
     "nuid": "6dcedfff-de39-4a0a-8940-a47fba5b1f29",
     "showTitle": false,
     "tableResultSettingsMap": {},
     "title": ""
    }
   },
   "outputs": [],
   "source": [
    "# It is necessary to verify if there are any distinct values for the Online Order Flag that are not null. After consultation with the responsible party, it has been confirmed that this column is still in use and should not be deleted.\n",
    "\n",
    "df.groupBy(\"OnlineOrderFlag\").count().display()"
   ]
  },
  {
   "cell_type": "code",
   "execution_count": 0,
   "metadata": {
    "application/vnd.databricks.v1+cell": {
     "cellMetadata": {
      "byteLimit": 2048000,
      "rowLimit": 10000
     },
     "inputWidgets": {},
     "nuid": "ebda008c-b1aa-43d5-b763-4f1fa3a5884e",
     "showTitle": false,
     "tableResultSettingsMap": {},
     "title": ""
    }
   },
   "outputs": [],
   "source": [
    "# It is necessary to verify if there are any non-null values in the Credit Card Approval Code. If all values are null, and it has been confirmed through a meeting with the responsible party that this column is no longer in use, it should be deleted.\n",
    "\n",
    "df.groupBy(\"CreditCardApprovalCode\").count().display()"
   ]
  },
  {
   "cell_type": "code",
   "execution_count": 0,
   "metadata": {
    "application/vnd.databricks.v1+cell": {
     "cellMetadata": {
      "byteLimit": 2048000,
      "rowLimit": 10000
     },
     "inputWidgets": {},
     "nuid": "3d2e4318-5d15-49df-9578-51d38c1b7e3e",
     "showTitle": false,
     "tableResultSettingsMap": {},
     "title": ""
    }
   },
   "outputs": [],
   "source": [
    "def silver_clean_orderheader(df): \n",
    "\n",
    "\n",
    "    #Deleting ireelevant columns\n",
    "    df = df.drop(\"RevisionNumber\",  \"SalesOrderNumber\", \"PurchaseOrderNumber\", \"AccountNumber\", \"Comment\" )\n",
    "\n",
    "    #Time to ship\n",
    "    df = df.withColumn(\n",
    "        \"Shiptime\", \n",
    "        when(\n",
    "            col(\"ShipDate\").isNull(), \n",
    "            datediff(current_date(), col(\"OrderDate\"))\n",
    "        ).otherwise(\n",
    "            datediff(col(\"Shipdate\"), col(\"OrderDate\"))\n",
    "        ).cast(IntegerType())\n",
    "    )\n",
    "\n",
    "\n",
    "    # Adds transformation Date column\n",
    "    df = df.withColumn(\"silves_transformed_timestamp\", F.current_timestamp())\n",
    "\n",
    "\n",
    "        #Cast to ensure datatype\n",
    "    df = df.select(\n",
    "         F.col('SalesOrderID').cast(IntegerType()).alias('SalesOrderID'),\n",
    "         F.col('OrderDate').cast(TimestampType()).alias('OrderDate'),\n",
    "         F.col('DueDate').cast(TimestampType()).alias('DueDate'),\n",
    "         F.col('ShipDate').cast(TimestampType()).alias('ShipDate'),\n",
    "         F.col('Status').cast(IntegerType()).alias('Status'),\n",
    "         F.col('OnlineOrderFlag').cast(BooleanType()).alias('OnlineOrderFlag'),\n",
    "         F.col('ShipToAddressID').cast(IntegerType()).alias('ShipToAddressID'),\n",
    "         F.col('BillToAddressID').cast(IntegerType()).alias('BillToAddressID'),\n",
    "         F.col('ShipMethod').cast(StringType()).alias('ShipMethod'),\n",
    "         F.col('CreditCardApprovalCode').cast(StringType()).alias('CreditCardApprovalCode'),\n",
    "         F.col('SubTotal').cast(DecimalType(19,4)).alias('SubTotal'),\n",
    "         F.col('TaxAmt').cast(DecimalType(19,4)).alias('TaxAmt'),\n",
    "         F.col('Freight').cast(DecimalType(19,4)).alias('Freight'),\n",
    "         F.col('TotalDue').cast(DecimalType(19,4)).alias('TotalDue'),\n",
    "         F.col('Shiptime').cast(IntegerType()).alias('Shiptime'),\n",
    "         F.col('CustomerID').cast(IntegerType()).alias('CustomerID'),\n",
    "         F.col('rowguid').cast(StringType()).alias('rowguid'),\n",
    "         F.col('ModifiedDate').cast(TimestampType()).alias('ModifiedDate'),\n",
    "         F.col('bronze_ingestion_timestamp').cast(TimestampType()).alias('bronze_ingestion_timestamp'),\n",
    "         F.col('silves_transformed_timestamp').cast(TimestampType()).alias('silves_transformed_timestamp'),\n",
    "                 )\n",
    "    \n",
    "\n",
    "    return df"
   ]
  },
  {
   "cell_type": "code",
   "execution_count": 0,
   "metadata": {
    "application/vnd.databricks.v1+cell": {
     "cellMetadata": {
      "byteLimit": 2048000,
      "rowLimit": 10000
     },
     "inputWidgets": {},
     "nuid": "ce86a45d-989a-4f50-8217-b926c1edbe4f",
     "showTitle": false,
     "tableResultSettingsMap": {},
     "title": ""
    }
   },
   "outputs": [],
   "source": [
    "#Defining expected schema\n",
    "expected_schema = StructType([\n",
    "    StructField(\"SalesOrderID\", IntegerType(), False),   \n",
    "    StructField(\"OrderDate\", TimestampType(), False),\n",
    "    StructField(\"DueDate\", TimestampType(), False),\n",
    "    StructField(\"ShipDate\", TimestampType(), False),\n",
    "    StructField(\"Status\", IntegerType(), False),\n",
    "    StructField(\"OnlineOrderFlag\", BooleanType(), False),\n",
    "    StructField(\"ShipToAddressID\", IntegerType(), False),\n",
    "    StructField(\"BillToAddressID\", IntegerType(), False),\n",
    "    StructField(\"ShipMethod\", StringType(), False),\n",
    "    StructField(\"CreditCardApprovalCode\", StringType(), False),\n",
    "    StructField(\"SubTotal\", DecimalType(19,4), False),\n",
    "    StructField(\"TaxAmt\", DecimalType(19,4), False),\n",
    "    StructField(\"Freight\", DecimalType(19,4), False),\n",
    "    StructField(\"TotalDue\", DecimalType(19,4), False),\n",
    "    StructField(\"Shiptime\", IntegerType(), False),\n",
    "    StructField(\"CustomerID\", IntegerType(), False),\n",
    "    StructField(\"rowguid\", StringType(), False),\n",
    "    StructField(\"ModifiedDate\", TimestampType(), False),\n",
    "    StructField(\"bronze_ingestion_timestamp\", TimestampType(), False),\n",
    "    StructField(\"silves_transformed_timestamp\", TimestampType(), False)\n",
    "    ])\n"
   ]
  },
  {
   "cell_type": "code",
   "execution_count": 0,
   "metadata": {
    "application/vnd.databricks.v1+cell": {
     "cellMetadata": {
      "byteLimit": 2048000,
      "rowLimit": 10000
     },
     "inputWidgets": {},
     "nuid": "96816951-28b6-45b1-8310-677355b5150e",
     "showTitle": false,
     "tableResultSettingsMap": {},
     "title": ""
    }
   },
   "outputs": [],
   "source": [
    "#Transforming df\n",
    "\n",
    "silver_df = silver_clean_orderheader(df)"
   ]
  },
  {
   "cell_type": "code",
   "execution_count": 0,
   "metadata": {
    "application/vnd.databricks.v1+cell": {
     "cellMetadata": {
      "byteLimit": 2048000,
      "rowLimit": 10000
     },
     "inputWidgets": {},
     "nuid": "e1fc92b1-83df-46b3-a4c3-4826acb2da78",
     "showTitle": false,
     "tableResultSettingsMap": {},
     "title": ""
    }
   },
   "outputs": [],
   "source": [
    "#Checking the schema \n",
    "_validate_schema(silver_df, expected_schema)"
   ]
  },
  {
   "cell_type": "code",
   "execution_count": 0,
   "metadata": {
    "application/vnd.databricks.v1+cell": {
     "cellMetadata": {
      "byteLimit": 2048000,
      "rowLimit": 10000
     },
     "inputWidgets": {},
     "nuid": "7eda794b-81fb-4d89-a511-9de693a9edf9",
     "showTitle": false,
     "tableResultSettingsMap": {},
     "title": ""
    }
   },
   "outputs": [],
   "source": [
    "#Comparing lenghts\n",
    "\n",
    "compare_lengths(df, silver_df)"
   ]
  },
  {
   "cell_type": "markdown",
   "metadata": {
    "application/vnd.databricks.v1+cell": {
     "cellMetadata": {},
     "inputWidgets": {},
     "nuid": "3f60ff11-5f36-44fa-9b37-8620c742a631",
     "showTitle": false,
     "tableResultSettingsMap": {},
     "title": ""
    }
   },
   "source": [
    "**IMPORTANT: Please note that this is a simulated project; the upsert operation will be executed within this notebook. In a production environment, a dedicated notebook containing only the function and validations would be developed. All function notebooks would be orchestrated by Azure Data Factory (ADF) pipelines or Azure Databricks (ADB) workflows. The method of upsert may vary based on the utilization of auto loader, streaming, or Change Data Feed (CDF).**"
   ]
  },
  {
   "cell_type": "code",
   "execution_count": 0,
   "metadata": {
    "application/vnd.databricks.v1+cell": {
     "cellMetadata": {
      "byteLimit": 2048000,
      "rowLimit": 10000
     },
     "inputWidgets": {},
     "nuid": "91ab813d-4f54-4a1b-9760-e753ea4165ef",
     "showTitle": false,
     "tableResultSettingsMap": {},
     "title": ""
    }
   },
   "outputs": [],
   "source": [
    "#Loading into the Silver Layer     \n",
    "\n",
    "target_table= \"saleslt_orderheader\"   \n",
    "\n",
    "schema = \"managed_silver\"\n",
    "\n",
    "catalog = \"adlslmcompany_silver\"\n",
    "\n",
    "primary_keys = [\"SalesOrderID\"]\n",
    "\n",
    "\n",
    "_upsert_silver_table(silver_df, target_table, primary_keys, schema, catalog )"
   ]
  }
 ],
 "metadata": {
  "application/vnd.databricks.v1+notebook": {
   "computePreferences": null,
   "dashboards": [],
   "environmentMetadata": {
    "base_environment": "",
    "environment_version": "2"
   },
   "language": "python",
   "notebookMetadata": {
    "pythonIndentUnit": 4
   },
   "notebookName": "Silver_SalesLT_SalesOrderHeader",
   "widgets": {}
  },
  "language_info": {
   "name": "python"
  }
 },
 "nbformat": 4,
 "nbformat_minor": 0
}
